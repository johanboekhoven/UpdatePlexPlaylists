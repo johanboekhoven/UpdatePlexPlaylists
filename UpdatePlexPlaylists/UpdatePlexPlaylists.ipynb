{
 "cells": [
  {
   "cell_type": "code",
   "execution_count": null,
   "metadata": {},
   "outputs": [],
   "source": [
    "from pathlib import Path\n",
    "from plexapi.server import PlexServer, Playlist\n",
    "import plex_helpers as ph\n",
    "\n",
    "plex = PlexServer(ph.get_plex_server(), ph.get_plex_token())"
   ]
  },
  {
   "cell_type": "code",
   "execution_count": null,
   "metadata": {},
   "outputs": [],
   "source": [
    "tutorials = plex.library.section('Tutorials')\n",
    "tutorialsMedia = tutorials.all()\n",
    "tutorialsMediaSorted = sorted(tutorialsMedia, key=lambda media: media.media[0].parts[0].file)\n",
    "print(f\"Tutorial Video's : {len(tutorialsMediaSorted)}\")"
   ]
  },
  {
   "cell_type": "code",
   "execution_count": null,
   "metadata": {},
   "outputs": [],
   "source": [
    "uniqueCollection = []\n",
    "uniqueCollectionAll = []\n",
    "for mov in tutorialsMediaSorted:\n",
    "    p = Path(mov.media[0].parts[0].file)\n",
    "    playlistname = p.parts[4]\n",
    "    if playlistname not in uniqueCollection:\n",
    "        uniqueCollection.append(playlistname)\n",
    "        uniqueCollectionAll.append([playlistname, [mov]])\n",
    "    else:\n",
    "        # search ID in uniqueCollection and then add it too uniqueCollectionAll\n",
    "        idx = uniqueCollection.index(playlistname)\n",
    "        uniqueCollectionAll[idx][1].append(mov)\n",
    "\n",
    "print(f\"Unique Playlists : {len(uniqueCollection)}\")"
   ]
  },
  {
   "cell_type": "code",
   "execution_count": null,
   "metadata": {},
   "outputs": [],
   "source": [
    "existing_playlists = plex.playlists()\n",
    "names = [pl.title for pl in existing_playlists]\n",
    "print(f'Num items : {len(uniqueCollectionAll)}')\n",
    "print(names)\n",
    "\n",
    "# create new\n",
    "for item in uniqueCollectionAll:\n",
    "\n",
    "    playlist = None\n",
    "    name = item[0]\n",
    "\n",
    "    if name in names:\n",
    "        playlist = existing_playlists[names.index(name)]\n",
    "        playlist.addItems(item[1])\n",
    "    # print(names.index(item[0]))\n",
    "    else:\n",
    "        playlist = Playlist.create(server=plex, title=item[0], items=item[1], section='Tutorials')\n",
    "\n",
    "    # if playlist != None:\n",
    "    #     playlist.addItems([i for i in item[1] if i.type == 'movie'])\n",
    "# print(item[1][0].type)\n"
   ]
  },
  {
   "cell_type": "code",
   "execution_count": null,
   "metadata": {},
   "outputs": [],
   "source": [
    "# DO A COMPLETE REBUILD HERE\n",
    "\n",
    "# data, attr = [], []\n",
    "# available_playlists[0].listAttrs(data, attr)\n",
    "\n",
    "# print(s)\n",
    "# print((data, attr))\n",
    "    \n",
    "# for playlist in available_playlists:\n",
    "#     matches = [pl for pl in plex.playlists() if pl.title == playlist[0]]\n",
    "#     print(matches)\n",
    "#     if len(matches) != 0: \n",
    "#         # all_matches.join(matchs)\n",
    "#         for m in matches: \n",
    "#             m.delete()\n"
   ]
  }
 ],
 "metadata": {
  "kernelspec": {
   "display_name": "updateplexplaylists-biTE9MDp-py3.10",
   "language": "python",
   "name": "python3"
  },
  "language_info": {
   "codemirror_mode": {
    "name": "ipython",
    "version": 3
   },
   "file_extension": ".py",
   "mimetype": "text/x-python",
   "name": "python",
   "nbconvert_exporter": "python",
   "pygments_lexer": "ipython3",
   "version": "3.10.8"
  },
  "orig_nbformat": 4,
  "vscode": {
   "interpreter": {
    "hash": "c706cc745c1f0b29805e1b6c72a2374ded5a747349de185c48e3e75ae08a295d"
   }
  }
 },
 "nbformat": 4,
 "nbformat_minor": 2
}
